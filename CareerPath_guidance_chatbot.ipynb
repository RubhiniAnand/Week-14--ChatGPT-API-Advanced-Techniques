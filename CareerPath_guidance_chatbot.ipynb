{
 "cells": [
  {
   "cell_type": "code",
   "execution_count": 2,
   "id": "1deec623-73be-4fad-af43-ccc319405017",
   "metadata": {},
   "outputs": [
    {
     "name": "stdout",
     "output_type": "stream",
     "text": [
      "Collecting python-docx\n",
      "  Downloading python_docx-1.1.2-py3-none-any.whl.metadata (2.0 kB)\n",
      "Collecting lxml>=3.1.0 (from python-docx)\n",
      "  Downloading lxml-5.3.0-cp312-cp312-win_amd64.whl.metadata (3.9 kB)\n",
      "Requirement already satisfied: typing-extensions>=4.9.0 in c:\\users\\admin\\anaconda3\\envs\\nlp\\lib\\site-packages (from python-docx) (4.11.0)\n",
      "Downloading python_docx-1.1.2-py3-none-any.whl (244 kB)\n",
      "   ---------------------------------------- 0.0/244.3 kB ? eta -:--:--\n",
      "   ---------- ----------------------------- 61.4/244.3 kB 1.6 MB/s eta 0:00:01\n",
      "   -------------------- ------------------- 122.9/244.3 kB 1.8 MB/s eta 0:00:01\n",
      "   ------------------------------- -------- 194.6/244.3 kB 1.7 MB/s eta 0:00:01\n",
      "   -------------------------------------- - 235.5/244.3 kB 1.6 MB/s eta 0:00:01\n",
      "   -------------------------------------- - 235.5/244.3 kB 1.6 MB/s eta 0:00:01\n",
      "   -------------------------------------- 244.3/244.3 kB 996.1 kB/s eta 0:00:00\n",
      "Downloading lxml-5.3.0-cp312-cp312-win_amd64.whl (3.8 MB)\n",
      "   ---------------------------------------- 0.0/3.8 MB ? eta -:--:--\n",
      "   - -------------------------------------- 0.1/3.8 MB 3.6 MB/s eta 0:00:02\n",
      "   -- ------------------------------------- 0.2/3.8 MB 2.8 MB/s eta 0:00:02\n",
      "   --- ------------------------------------ 0.4/3.8 MB 2.8 MB/s eta 0:00:02\n",
      "   ----- ---------------------------------- 0.5/3.8 MB 2.9 MB/s eta 0:00:02\n",
      "   ------ --------------------------------- 0.6/3.8 MB 2.7 MB/s eta 0:00:02\n",
      "   ------- -------------------------------- 0.7/3.8 MB 2.7 MB/s eta 0:00:02\n",
      "   --------- ------------------------------ 0.9/3.8 MB 2.7 MB/s eta 0:00:02\n",
      "   ---------- ----------------------------- 1.0/3.8 MB 2.8 MB/s eta 0:00:02\n",
      "   ------------ --------------------------- 1.1/3.8 MB 2.8 MB/s eta 0:00:01\n",
      "   ------------- -------------------------- 1.3/3.8 MB 2.8 MB/s eta 0:00:01\n",
      "   --------------- ------------------------ 1.4/3.8 MB 2.8 MB/s eta 0:00:01\n",
      "   ---------------- ----------------------- 1.6/3.8 MB 2.8 MB/s eta 0:00:01\n",
      "   ----------------- ---------------------- 1.7/3.8 MB 2.8 MB/s eta 0:00:01\n",
      "   ------------------- -------------------- 1.8/3.8 MB 2.9 MB/s eta 0:00:01\n",
      "   -------------------- ------------------- 2.0/3.8 MB 2.9 MB/s eta 0:00:01\n",
      "   ---------------------- ----------------- 2.2/3.8 MB 3.0 MB/s eta 0:00:01\n",
      "   ------------------------ --------------- 2.3/3.8 MB 3.0 MB/s eta 0:00:01\n",
      "   ------------------------- -------------- 2.4/3.8 MB 2.9 MB/s eta 0:00:01\n",
      "   -------------------------- ------------- 2.5/3.8 MB 2.9 MB/s eta 0:00:01\n",
      "   ---------------------------- ----------- 2.7/3.8 MB 2.9 MB/s eta 0:00:01\n",
      "   ------------------------------ --------- 2.9/3.8 MB 3.0 MB/s eta 0:00:01\n",
      "   ------------------------------- -------- 3.0/3.8 MB 3.0 MB/s eta 0:00:01\n",
      "   -------------------------------- ------- 3.1/3.8 MB 3.0 MB/s eta 0:00:01\n",
      "   ---------------------------------- ----- 3.3/3.8 MB 3.0 MB/s eta 0:00:01\n",
      "   ------------------------------------ --- 3.5/3.8 MB 3.0 MB/s eta 0:00:01\n",
      "   -------------------------------------- - 3.7/3.8 MB 3.1 MB/s eta 0:00:01\n",
      "   ---------------------------------------  3.8/3.8 MB 3.1 MB/s eta 0:00:01\n",
      "   ---------------------------------------  3.8/3.8 MB 3.1 MB/s eta 0:00:01\n",
      "   ---------------------------------------  3.8/3.8 MB 3.1 MB/s eta 0:00:01\n",
      "   ---------------------------------------  3.8/3.8 MB 3.1 MB/s eta 0:00:01\n",
      "   ---------------------------------------  3.8/3.8 MB 3.1 MB/s eta 0:00:01\n",
      "   ---------------------------------------- 3.8/3.8 MB 2.6 MB/s eta 0:00:00\n",
      "Installing collected packages: lxml, python-docx\n",
      "Successfully installed lxml-5.3.0 python-docx-1.1.2\n"
     ]
    }
   ],
   "source": [
    "#!pip install python-docx\n"
   ]
  },
  {
   "cell_type": "code",
   "execution_count": 16,
   "id": "fa77bf98-b108-49a8-b2ba-3e3ff8126dca",
   "metadata": {},
   "outputs": [
    {
     "name": "stdout",
     "output_type": "stream",
     "text": [
      "Welcome to the Career Guidance Chatbot!\n",
      "Please enter your marks for at least 4 subjects conversational format.\n",
      "Example: 'I scored 85 in Math, 90 in Science, 75 in English, and 80 in Social Studies. I am from India.'\n",
      "Type 'exit' to quit the chatbot.\n",
      "\n"
     ]
    },
    {
     "name": "stdin",
     "output_type": "stream",
     "text": [
      "You:  56 in english 67 in maths 87 in science 75 in social\n"
     ]
    },
    {
     "name": "stdout",
     "output_type": "stream",
     "text": [
      "As an AI model, I don't have any questions. However, I'm here to provide guidance and answer information regarding education opportunities for students in Tamil Nadu. Please provide your subject-wise marks and ensure that it comprises more than four subjects.\n"
     ]
    },
    {
     "ename": "KeyboardInterrupt",
     "evalue": "Interrupted by user",
     "output_type": "error",
     "traceback": [
      "\u001b[1;31m---------------------------------------------------------------------------\u001b[0m",
      "\u001b[1;31mKeyboardInterrupt\u001b[0m                         Traceback (most recent call last)",
      "Cell \u001b[1;32mIn[16], line 53\u001b[0m\n\u001b[0;32m     49\u001b[0m \u001b[38;5;28mprint\u001b[39m(\u001b[38;5;124m\"\u001b[39m\u001b[38;5;124mType \u001b[39m\u001b[38;5;124m'\u001b[39m\u001b[38;5;124mexit\u001b[39m\u001b[38;5;124m'\u001b[39m\u001b[38;5;124m to quit the chatbot.\u001b[39m\u001b[38;5;130;01m\\n\u001b[39;00m\u001b[38;5;124m\"\u001b[39m)\n\u001b[0;32m     51\u001b[0m \u001b[38;5;28;01mwhile\u001b[39;00m \u001b[38;5;28;01mTrue\u001b[39;00m:\n\u001b[0;32m     52\u001b[0m     \u001b[38;5;66;03m# Get user input\u001b[39;00m\n\u001b[1;32m---> 53\u001b[0m     user_input \u001b[38;5;241m=\u001b[39m \u001b[38;5;28minput\u001b[39m(\u001b[38;5;124m\"\u001b[39m\u001b[38;5;124mYou: \u001b[39m\u001b[38;5;124m\"\u001b[39m)\u001b[38;5;241m.\u001b[39mstrip()\n\u001b[0;32m     55\u001b[0m     \u001b[38;5;28;01mif\u001b[39;00m user_input\u001b[38;5;241m.\u001b[39mlower() \u001b[38;5;129;01min\u001b[39;00m [\u001b[38;5;124m'\u001b[39m\u001b[38;5;124mexit\u001b[39m\u001b[38;5;124m'\u001b[39m, \u001b[38;5;124m'\u001b[39m\u001b[38;5;124mquit\u001b[39m\u001b[38;5;124m'\u001b[39m]:\n\u001b[0;32m     56\u001b[0m         \u001b[38;5;28mprint\u001b[39m(\u001b[38;5;124m\"\u001b[39m\u001b[38;5;124mChatbot: Thank you for using the Career Guidance Chatbot. Goodbye!\u001b[39m\u001b[38;5;124m\"\u001b[39m)\n",
      "File \u001b[1;32m~\\anaconda3\\envs\\nlp\\Lib\\site-packages\\ipykernel\\kernelbase.py:1262\u001b[0m, in \u001b[0;36mKernel.raw_input\u001b[1;34m(self, prompt)\u001b[0m\n\u001b[0;32m   1260\u001b[0m     msg \u001b[38;5;241m=\u001b[39m \u001b[38;5;124m\"\u001b[39m\u001b[38;5;124mraw_input was called, but this frontend does not support input requests.\u001b[39m\u001b[38;5;124m\"\u001b[39m\n\u001b[0;32m   1261\u001b[0m     \u001b[38;5;28;01mraise\u001b[39;00m StdinNotImplementedError(msg)\n\u001b[1;32m-> 1262\u001b[0m \u001b[38;5;28;01mreturn\u001b[39;00m \u001b[38;5;28mself\u001b[39m\u001b[38;5;241m.\u001b[39m_input_request(\n\u001b[0;32m   1263\u001b[0m     \u001b[38;5;28mstr\u001b[39m(prompt),\n\u001b[0;32m   1264\u001b[0m     \u001b[38;5;28mself\u001b[39m\u001b[38;5;241m.\u001b[39m_parent_ident[\u001b[38;5;124m\"\u001b[39m\u001b[38;5;124mshell\u001b[39m\u001b[38;5;124m\"\u001b[39m],\n\u001b[0;32m   1265\u001b[0m     \u001b[38;5;28mself\u001b[39m\u001b[38;5;241m.\u001b[39mget_parent(\u001b[38;5;124m\"\u001b[39m\u001b[38;5;124mshell\u001b[39m\u001b[38;5;124m\"\u001b[39m),\n\u001b[0;32m   1266\u001b[0m     password\u001b[38;5;241m=\u001b[39m\u001b[38;5;28;01mFalse\u001b[39;00m,\n\u001b[0;32m   1267\u001b[0m )\n",
      "File \u001b[1;32m~\\anaconda3\\envs\\nlp\\Lib\\site-packages\\ipykernel\\kernelbase.py:1305\u001b[0m, in \u001b[0;36mKernel._input_request\u001b[1;34m(self, prompt, ident, parent, password)\u001b[0m\n\u001b[0;32m   1302\u001b[0m \u001b[38;5;28;01mexcept\u001b[39;00m \u001b[38;5;167;01mKeyboardInterrupt\u001b[39;00m:\n\u001b[0;32m   1303\u001b[0m     \u001b[38;5;66;03m# re-raise KeyboardInterrupt, to truncate traceback\u001b[39;00m\n\u001b[0;32m   1304\u001b[0m     msg \u001b[38;5;241m=\u001b[39m \u001b[38;5;124m\"\u001b[39m\u001b[38;5;124mInterrupted by user\u001b[39m\u001b[38;5;124m\"\u001b[39m\n\u001b[1;32m-> 1305\u001b[0m     \u001b[38;5;28;01mraise\u001b[39;00m \u001b[38;5;167;01mKeyboardInterrupt\u001b[39;00m(msg) \u001b[38;5;28;01mfrom\u001b[39;00m \u001b[38;5;28;01mNone\u001b[39;00m\n\u001b[0;32m   1306\u001b[0m \u001b[38;5;28;01mexcept\u001b[39;00m \u001b[38;5;167;01mException\u001b[39;00m:\n\u001b[0;32m   1307\u001b[0m     \u001b[38;5;28mself\u001b[39m\u001b[38;5;241m.\u001b[39mlog\u001b[38;5;241m.\u001b[39mwarning(\u001b[38;5;124m\"\u001b[39m\u001b[38;5;124mInvalid Message:\u001b[39m\u001b[38;5;124m\"\u001b[39m, exc_info\u001b[38;5;241m=\u001b[39m\u001b[38;5;28;01mTrue\u001b[39;00m)\n",
      "\u001b[1;31mKeyboardInterrupt\u001b[0m: Interrupted by user"
     ]
    },
    {
     "name": "stdin",
     "output_type": "stream",
     "text": [
      "You:  exit\n"
     ]
    }
   ],
   "source": [
    "import openai\n",
    "openai.api_key  = ''\n",
    "\n",
    "from docx import Document\n",
    "\n",
    "# Function to read .docx file content\n",
    "def read_docx(file_path):\n",
    "    doc = Document(file_path)\n",
    "    content = \"\"\n",
    "    for para in doc.paragraphs:\n",
    "        content += para.text + \"\\n\"\n",
    "    return content\n",
    "\n",
    "# Path to your document file\n",
    "file_path = r\"D:\\Hope AI\\Week14-ChatGPT-API\\DistrictWiseCollegesList.docx\"\n",
    "\n",
    "# Read the content of the file\n",
    "document_content = read_docx(file_path)\n",
    "\n",
    "# Define the user query\n",
    "# Combine the document content and user query for ChatGPT\n",
    "prompt = f\"\"\"\n",
    "You are an intelligent career guidance assistant.Only for students who expect to study in tamilnadu.Please mention it before asking their details.\n",
    "Below is a document containing information about top colleges in Tamil Nadu:\n",
    "The user will provide their subject-wise marks. Your tasks are as follows:\n",
    "0. Ask them as mandatory to submit more than four subject marks and they should be interested to study in TamilNadu.\n",
    "1. Don't response them before they enter their 4 subject marks.\n",
    "2. Parse the subject-wise marks and print it on the response.\n",
    "3. Remember all previous messages in the chat for context.\n",
    "4. Analyze the marks to identify the user's strengths and weaknesses in different subjects.\n",
    "5. If the students mark fall under below average 36 to 50 give them response  from the below average students categoryrelated to their strength and not all colleges list.\n",
    "6. If the student mark falls from 51 to 75 category (i.e. above average) give them response from colleges list Average students category related to their strength in marks not all colleges list.\n",
    "6. If the student subject wise marks arge above 80 response them from top students category related to their strength in domain not all trhe colleges.\n",
    "7. If the student mark is less than 35 for one suject it is considered as fail in that subject. So instruct to appear for an reexam meanwhile do any basic certificate programs.List out some usefull certificate programs.\n",
    "8. Based on their strengths, recommend detailed career domains they can explore and also under each domains the newly emerged courses highlight it\n",
    "9. Provide a list of colleges in an tabular offering education in those career domains, including the **college names and locations**and guide to refer the link and connect a call for your clarifications.\n",
    "10. Do not ask the user for the same information repeatedly. If they have already entered marks or their country, remember them and use them in your response.\n",
    "\n",
    "{document_content}\n",
    "\"\"\"\n",
    "# Main chatbot loop\n",
    "print(\"Welcome to the Career Guidance Chatbot!\")\n",
    "print(\"Please enter your marks for at least 4 subjects conversational format.\")\n",
    "print(\"Example: 'I scored 85 in Math, 90 in Science, 75 in English, and 80 in Social Studies. I am from India.'\")\n",
    "print(\"Type 'exit' to quit the chatbot.\\n\")\n",
    "\n",
    "while True:\n",
    "    # Get user input\n",
    "    user_input = input(\"You: \").strip()\n",
    "\n",
    "    if user_input.lower() in ['exit', 'quit']:\n",
    "        print(\"Chatbot: Thank you for using the Career Guidance Chatbot. Goodbye!\")\n",
    "        break\n",
    "# Add user message to chat history\n",
    "    messages.append({\"role\": \"user\", \"content\": user_input})\n",
    "\n",
    "# Call OpenAI API with the combined prompt\n",
    "    response = openai.ChatCompletion.create(\n",
    "    model=\"gpt-4\",  # Use \"gpt-4\" or \"gpt-3.5-turbo\" based on your access\n",
    "    messages=[\n",
    "        {\"role\": \"system\", \"content\": prompt}\n",
    "    ],\n",
    "    max_tokens=1000,  # Adjust token limit as needed\n",
    "    )\n",
    "\n",
    "# Print the response\n",
    "    print(response[\"choices\"][0][\"message\"][\"content\"])\n"
   ]
  }
 ],
 "metadata": {
  "kernelspec": {
   "display_name": "Python 3 (ipykernel)",
   "language": "python",
   "name": "python3"
  },
  "language_info": {
   "codemirror_mode": {
    "name": "ipython",
    "version": 3
   },
   "file_extension": ".py",
   "mimetype": "text/x-python",
   "name": "python",
   "nbconvert_exporter": "python",
   "pygments_lexer": "ipython3",
   "version": "3.11.5"
  }
 },
 "nbformat": 4,
 "nbformat_minor": 5
}
