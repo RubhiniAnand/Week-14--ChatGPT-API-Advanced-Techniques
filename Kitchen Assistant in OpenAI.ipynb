{
 "cells": [
  {
   "cell_type": "code",
   "execution_count": 1,
   "id": "1f3af168-540b-48f5-a953-be82cbc46754",
   "metadata": {},
   "outputs": [
    {
     "name": "stdout",
     "output_type": "stream",
     "text": [
      "Collecting speechrecognition\n",
      "  Downloading SpeechRecognition-3.12.0-py3-none-any.whl.metadata (30 kB)\n",
      "Collecting pyttsx3\n",
      "  Downloading pyttsx3-2.98-py3-none-any.whl.metadata (3.8 kB)\n",
      "Requirement already satisfied: typing-extensions in c:\\users\\admin\\anaconda3\\envs\\rag\\lib\\site-packages (from speechrecognition) (4.12.2)\n",
      "Collecting comtypes (from pyttsx3)\n",
      "  Downloading comtypes-1.4.8-py3-none-any.whl.metadata (7.1 kB)\n",
      "Collecting pypiwin32 (from pyttsx3)\n",
      "  Downloading pypiwin32-223-py3-none-any.whl.metadata (236 bytes)\n",
      "Requirement already satisfied: pywin32 in c:\\users\\admin\\anaconda3\\envs\\rag\\lib\\site-packages (from pyttsx3) (305.1)\n",
      "Downloading SpeechRecognition-3.12.0-py3-none-any.whl (32.8 MB)\n",
      "   ---------------------------------------- 0.0/32.8 MB ? eta -:--:--\n",
      "   ---------------------------------------- 0.0/32.8 MB ? eta -:--:--\n",
      "   ---------------------------------------- 0.3/32.8 MB ? eta -:--:--\n",
      "    --------------------------------------- 0.5/32.8 MB 989.2 kB/s eta 0:00:33\n",
      "    --------------------------------------- 0.8/32.8 MB 1.1 MB/s eta 0:00:30\n",
      "   - -------------------------------------- 1.0/32.8 MB 1.1 MB/s eta 0:00:29\n",
      "   - -------------------------------------- 1.3/32.8 MB 1.2 MB/s eta 0:00:27\n",
      "   -- ------------------------------------- 1.8/32.8 MB 1.3 MB/s eta 0:00:24\n",
      "   -- ------------------------------------- 2.1/32.8 MB 1.4 MB/s eta 0:00:23\n",
      "   -- ------------------------------------- 2.4/32.8 MB 1.4 MB/s eta 0:00:22\n",
      "   --- ------------------------------------ 2.9/32.8 MB 1.5 MB/s eta 0:00:21\n",
      "   ---- ----------------------------------- 3.4/32.8 MB 1.6 MB/s eta 0:00:19\n",
      "   ----- ---------------------------------- 4.2/32.8 MB 1.7 MB/s eta 0:00:17\n",
      "   ----- ---------------------------------- 4.7/32.8 MB 1.8 MB/s eta 0:00:16\n",
      "   ------ --------------------------------- 5.5/32.8 MB 2.0 MB/s eta 0:00:15\n",
      "   ------- -------------------------------- 6.0/32.8 MB 2.0 MB/s eta 0:00:14\n",
      "   -------- ------------------------------- 6.8/32.8 MB 2.1 MB/s eta 0:00:13\n",
      "   --------- ------------------------------ 7.6/32.8 MB 2.2 MB/s eta 0:00:12\n",
      "   ---------- ----------------------------- 8.4/32.8 MB 2.3 MB/s eta 0:00:11\n",
      "   ----------- ---------------------------- 9.2/32.8 MB 2.4 MB/s eta 0:00:10\n",
      "   ----------- ---------------------------- 9.7/32.8 MB 2.4 MB/s eta 0:00:10\n",
      "   ------------ --------------------------- 10.2/32.8 MB 2.4 MB/s eta 0:00:10\n",
      "   ------------- -------------------------- 11.0/32.8 MB 2.5 MB/s eta 0:00:09\n",
      "   -------------- ------------------------- 12.1/32.8 MB 2.6 MB/s eta 0:00:09\n",
      "   --------------- ------------------------ 13.1/32.8 MB 2.7 MB/s eta 0:00:08\n",
      "   ----------------- ---------------------- 14.4/32.8 MB 2.8 MB/s eta 0:00:07\n",
      "   ------------------ --------------------- 15.5/32.8 MB 2.9 MB/s eta 0:00:06\n",
      "   -------------------- ------------------- 16.5/32.8 MB 3.0 MB/s eta 0:00:06\n",
      "   --------------------- ------------------ 17.8/32.8 MB 3.1 MB/s eta 0:00:05\n",
      "   ---------------------- ----------------- 18.9/32.8 MB 3.2 MB/s eta 0:00:05\n",
      "   ------------------------ --------------- 20.2/32.8 MB 3.3 MB/s eta 0:00:04\n",
      "   -------------------------- ------------- 21.5/32.8 MB 3.4 MB/s eta 0:00:04\n",
      "   --------------------------- ------------ 22.5/32.8 MB 3.4 MB/s eta 0:00:03\n",
      "   ---------------------------- ----------- 23.3/32.8 MB 3.4 MB/s eta 0:00:03\n",
      "   ------------------------------ --------- 24.6/32.8 MB 3.5 MB/s eta 0:00:03\n",
      "   ------------------------------- -------- 26.0/32.8 MB 3.6 MB/s eta 0:00:02\n",
      "   --------------------------------- ------ 27.3/32.8 MB 3.7 MB/s eta 0:00:02\n",
      "   ---------------------------------- ----- 28.6/32.8 MB 3.7 MB/s eta 0:00:02\n",
      "   ------------------------------------ --- 29.6/32.8 MB 3.8 MB/s eta 0:00:01\n",
      "   ------------------------------------- -- 30.9/32.8 MB 3.8 MB/s eta 0:00:01\n",
      "   -------------------------------------- - 32.0/32.8 MB 3.9 MB/s eta 0:00:01\n",
      "   ---------------------------------------  32.8/32.8 MB 3.9 MB/s eta 0:00:01\n",
      "   ---------------------------------------  32.8/32.8 MB 3.9 MB/s eta 0:00:01\n",
      "   ---------------------------------------  32.8/32.8 MB 3.9 MB/s eta 0:00:01\n",
      "   ---------------------------------------- 32.8/32.8 MB 3.7 MB/s eta 0:00:00\n",
      "Downloading pyttsx3-2.98-py3-none-any.whl (34 kB)\n",
      "Downloading comtypes-1.4.8-py3-none-any.whl (229 kB)\n",
      "Downloading pypiwin32-223-py3-none-any.whl (1.7 kB)\n",
      "Installing collected packages: speechrecognition, pypiwin32, comtypes, pyttsx3\n",
      "Successfully installed comtypes-1.4.8 pypiwin32-223 pyttsx3-2.98 speechrecognition-3.12.0\n"
     ]
    }
   ],
   "source": [
    "!pip install speechrecognition pyttsx3"
   ]
  },
  {
   "cell_type": "code",
   "execution_count": 2,
   "id": "8f137e44-2b96-4e30-8339-4bbe785e4d64",
   "metadata": {},
   "outputs": [
    {
     "name": "stderr",
     "output_type": "stream",
     "text": [
      "C:\\Users\\Admin\\AppData\\Local\\Temp\\ipykernel_12028\\3320600643.py:6: LangChainDeprecationWarning: The class `ChatOpenAI` was deprecated in LangChain 0.0.10 and will be removed in 1.0. An updated version of the class exists in the :class:`~langchain-openai package and should be used instead. To use it run `pip install -U :class:`~langchain-openai` and import as `from :class:`~langchain_openai import ChatOpenAI``.\n",
      "  llm = ChatOpenAI(model_name=\"gpt-4\", temperature=0.7, openai_api_key=\"sk-45IP-VkQDilefrnypJShbdY8V8RHqrgI8TSptnR7C6T3BlbkFJnSfsZ_LmNi7EO3GD36XGnnVngFgRtMClRc6m5EVdwA\")\n",
      "C:\\Users\\Admin\\AppData\\Local\\Temp\\ipykernel_12028\\3320600643.py:9: LangChainDeprecationWarning: Please see the migration guide at: https://python.langchain.com/docs/versions/migrating_memory/\n",
      "  memory = ConversationBufferMemory()\n",
      "C:\\Users\\Admin\\AppData\\Local\\Temp\\ipykernel_12028\\3320600643.py:12: LangChainDeprecationWarning: The class `ConversationChain` was deprecated in LangChain 0.2.7 and will be removed in 1.0. Use :meth:`~RunnableWithMessageHistory: https://python.langchain.com/v0.2/api_reference/core/runnables/langchain_core.runnables.history.RunnableWithMessageHistory.html` instead.\n",
      "  conversation = ConversationChain(llm=llm, memory=memory)\n"
     ]
    }
   ],
   "source": [
    "from langchain.chat_models import ChatOpenAI\n",
    "from langchain.memory import ConversationBufferMemory\n",
    "from langchain.chains import ConversationChain\n",
    "\n",
    "# Initialize the OpenAI model\n",
    "llm = ChatOpenAI(model_name=\"gpt-4\", temperature=0.7, openai_api_key=\"\")\n",
    "\n",
    "# Add memory to store notes\n",
    "memory = ConversationBufferMemory()\n",
    "\n",
    "# Create a conversational chatbot\n",
    "conversation = ConversationChain(llm=llm, memory=memory)\n"
   ]
  },
  {
   "cell_type": "code",
   "execution_count": 11,
   "id": "f9486cc9-a5c9-411b-8161-7a5004512ac6",
   "metadata": {},
   "outputs": [
    {
     "name": "stdout",
     "output_type": "stream",
     "text": [
      "Collecting sounddevice\n",
      "  Downloading sounddevice-0.5.1-py3-none-win_amd64.whl.metadata (1.4 kB)\n",
      "Requirement already satisfied: CFFI>=1.0 in c:\\users\\admin\\anaconda3\\envs\\rag\\lib\\site-packages (from sounddevice) (1.17.1)\n",
      "Requirement already satisfied: pycparser in c:\\users\\admin\\anaconda3\\envs\\rag\\lib\\site-packages (from CFFI>=1.0->sounddevice) (2.21)\n",
      "Downloading sounddevice-0.5.1-py3-none-win_amd64.whl (363 kB)\n",
      "Installing collected packages: sounddevice\n",
      "Successfully installed sounddevice-0.5.1\n"
     ]
    }
   ],
   "source": [
    "!pip install sounddevice\n"
   ]
  },
  {
   "cell_type": "code",
   "execution_count": 13,
   "id": "ac999ceb-12df-4561-a270-db50af664b31",
   "metadata": {},
   "outputs": [
    {
     "data": {
      "text/plain": [
       "array([[ 0.00000000e+00,  0.00000000e+00],\n",
       "       [ 0.00000000e+00,  3.05175781e-05],\n",
       "       [-6.10351562e-05, -6.10351562e-05],\n",
       "       ...,\n",
       "       [ 2.38037109e-03,  2.25830078e-03],\n",
       "       [ 2.22778320e-03,  2.13623047e-03],\n",
       "       [ 1.86157227e-03,  1.67846680e-03]])"
      ]
     },
     "execution_count": 13,
     "metadata": {},
     "output_type": "execute_result"
    }
   ],
   "source": [
    "audio"
   ]
  },
  {
   "cell_type": "code",
   "execution_count": 15,
   "id": "aaf5ba56-8caa-44e7-806a-94868cc46ebd",
   "metadata": {},
   "outputs": [
    {
     "name": "stdout",
     "output_type": "stream",
     "text": [
      "Collecting wavio\n",
      "  Downloading wavio-0.0.9-py3-none-any.whl.metadata (5.7 kB)\n",
      "Requirement already satisfied: numpy>=1.19.0 in c:\\users\\admin\\anaconda3\\envs\\rag\\lib\\site-packages (from wavio) (1.26.4)\n",
      "Downloading wavio-0.0.9-py3-none-any.whl (9.5 kB)\n",
      "Installing collected packages: wavio\n",
      "Successfully installed wavio-0.0.9\n"
     ]
    }
   ],
   "source": [
    "!pip install wavio"
   ]
  },
  {
   "cell_type": "code",
   "execution_count": 27,
   "id": "45eee9f8-f188-4b3b-89e5-a255e5280425",
   "metadata": {},
   "outputs": [
    {
     "name": "stdout",
     "output_type": "stream",
     "text": [
      "Kitchen Assistant is ready! Say 'stop' to exit.\n",
      "Recording...\n",
      "Recording finished!\n",
      "Processing audio...\n",
      "You said: 3 carats and\n",
      "Kitchen Assistant: Got it! I have saved: 3 carats and\n",
      "Recording...\n",
      "Recording finished!\n",
      "Processing audio...\n",
      "You said: potatoes\n",
      "Kitchen Assistant: Got it! I have saved: potatoes\n",
      "Recording...\n",
      "Recording finished!\n",
      "Processing audio...\n",
      "You said: Sorry, I couldn't understand that.\n",
      "Kitchen Assistant: Got it! I have saved: Sorry, I couldn't understand that.\n",
      "Recording...\n",
      "Recording finished!\n",
      "Processing audio...\n",
      "You said: I need to give warm tablet\n",
      "Kitchen Assistant: Got it! I have saved: I need to give warm tablet\n",
      "Recording...\n",
      "Recording finished!\n",
      "Processing audio...\n",
      "You said: evening\n",
      "Kitchen Assistant: Got it! I have saved: evening\n",
      "Recording...\n",
      "Recording finished!\n",
      "Processing audio...\n",
      "You said: evening Hospital weed go\n",
      "Kitchen Assistant: Got it! I have saved: evening Hospital weed go\n",
      "Recording...\n",
      "Recording finished!\n",
      "Processing audio...\n",
      "You said: good morning\n",
      "Kitchen Assistant: Got it! I have saved: good morning\n",
      "Recording...\n",
      "Recording finished!\n",
      "Processing audio...\n",
      "You said: check\n",
      "Kitchen Assistant: Got it! I have saved: check\n",
      "Recording...\n",
      "Recording finished!\n",
      "Processing audio...\n",
      "You said: stop\n",
      "Goodbye! Notes saved.\n"
     ]
    }
   ],
   "source": [
    "import sounddevice as sd\n",
    "import wavio  # To save audio in WAV format\n",
    "import speech_recognition as sr\n",
    "import pyttsx3\n",
    "\n",
    "# Initialize the speech synthesizer\n",
    "engine = pyttsx3.init()\n",
    "\n",
    "# Function to use sounddevice to record audio and save it as a WAV file\n",
    "def record_audio(duration=5, fs=16000, filename=\"temp_audio.wav\"):\n",
    "    print(\"Recording...\")\n",
    "    # Record audio\n",
    "    audio = sd.rec(int(duration * fs), samplerate=fs, channels=1, dtype='int16')\n",
    "    sd.wait()  # Wait for the recording to finish\n",
    "    print(\"Recording finished!\")\n",
    "\n",
    "    # Save the audio to a WAV file\n",
    "    wavio.write(filename, audio, fs, sampwidth=2)\n",
    "    return filename\n",
    "\n",
    "# Function to recognize speech from the recorded WAV file\n",
    "def recognize_speech_from_audio(filename):\n",
    "    recognizer = sr.Recognizer()\n",
    "    with sr.AudioFile(filename) as source:\n",
    "        print(\"Processing audio...\")\n",
    "        try:\n",
    "            audio = recognizer.record(source)\n",
    "            # Recognize speech using Google Web Speech API\n",
    "            return recognizer.recognize_google(audio)\n",
    "        except sr.UnknownValueError:\n",
    "            return \"Sorry, I couldn't understand that.\"\n",
    "        except sr.RequestError:\n",
    "            return \"Error in connecting to the recognition service.\"\n",
    "\n",
    "# Function to convert text to speech\n",
    "def speak_text(text):\n",
    "    engine.say(text)\n",
    "    engine.runAndWait()\n",
    "\n",
    "# Function to save notes to a file\n",
    "def save_note_to_file(note):\n",
    "    with open(\"kitchen_notes.txt\", \"a\") as file:\n",
    "        file.write(note + \"\\n\")\n",
    "\n",
    "# Kitchen Assistant main function\n",
    "def kitchen_assistant():\n",
    "    print(\"Kitchen Assistant is ready! Say 'stop' to exit.\")\n",
    "    speak_text(\"Hello! I am your kitchen assistant. What should I note down?\")\n",
    "    \n",
    "    while True:\n",
    "        # Record audio and recognize speech\n",
    "        audio_file = record_audio()\n",
    "        user_input = recognize_speech_from_audio(audio_file)\n",
    "        \n",
    "        print(f\"You said: {user_input}\")\n",
    "        \n",
    "        if user_input.lower() == \"stop\":\n",
    "            print(\"Goodbye! Notes saved.\")\n",
    "            speak_text(\"Goodbye! I have saved your notes.\")\n",
    "            break\n",
    "\n",
    "        # Save the note\n",
    "        save_note_to_file(user_input)\n",
    "        \n",
    "        # Respond to the user\n",
    "        response = f\"Got it! I have saved: {user_input}\"\n",
    "        print(f\"Kitchen Assistant: {response}\")\n",
    "        speak_text(response)\n",
    "\n",
    "# Entry point of the program\n",
    "if __name__ == \"__main__\":\n",
    "    kitchen_assistant()\n"
   ]
  },
  {
   "cell_type": "code",
   "execution_count": 28,
   "id": "c5b447e9-bf44-447c-aa7e-06b2bf0c4c2b",
   "metadata": {},
   "outputs": [
    {
     "name": "stdout",
     "output_type": "stream",
     "text": [
      "Audio data shape: (220500, 2)\n"
     ]
    }
   ],
   "source": [
    "print(f\"Audio data shape: {audio.shape}\")\n"
   ]
  },
  {
   "cell_type": "code",
   "execution_count": 29,
   "id": "b4ad41e4-14d8-4ff1-881f-fcb2bd17f501",
   "metadata": {},
   "outputs": [
    {
     "name": "stdout",
     "output_type": "stream",
     "text": [
      "Audio sample rate: 44100, Duration: 5s\n"
     ]
    }
   ],
   "source": [
    "print(f\"Audio sample rate: {fs}, Duration: {duration}s\")\n"
   ]
  },
  {
   "cell_type": "code",
   "execution_count": null,
   "id": "12372a54-81c5-4cb6-98cb-4d04f9a8edff",
   "metadata": {},
   "outputs": [],
   "source": []
  }
 ],
 "metadata": {
  "kernelspec": {
   "display_name": "Python 3 (ipykernel)",
   "language": "python",
   "name": "python3"
  },
  "language_info": {
   "codemirror_mode": {
    "name": "ipython",
    "version": 3
   },
   "file_extension": ".py",
   "mimetype": "text/x-python",
   "name": "python",
   "nbconvert_exporter": "python",
   "pygments_lexer": "ipython3",
   "version": "3.11.5"
  }
 },
 "nbformat": 4,
 "nbformat_minor": 5
}
